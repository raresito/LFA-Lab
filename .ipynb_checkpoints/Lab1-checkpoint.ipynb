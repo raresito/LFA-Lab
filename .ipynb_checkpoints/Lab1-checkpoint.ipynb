{
 "cells": [
  {
   "cell_type": "markdown",
   "metadata": {},
   "source": [
    "# Laborator - Limbaje Formale și Automate"
   ]
  },
  {
   "cell_type": "markdown",
   "metadata": {},
   "source": [
    "## Laborator 1 - Introducere\n",
    "\n",
    "Unelte folosite în acest laborator:\n",
    "    1. Python 3.7 - limbaj de programare în care vom rezolva problemele. Foarte important să nu fie Python 2.\n",
    "    2. Jupyter Notebook - pentru a accesa cerințele (poate fi folosit și cu un online viewer)\n",
    "    3. PyCharm - IDE pentru python (opțional, dar recomandat)\n",
    "    \n",
    "**Python** este un limbaj de programare foarte popular in prezent spre deosebire de C++ care e foarte popular în trecut. Este un limbaj folosit cel mai adesea în **mediul științific** ca o alternativă nouă și mai ... programatică pentru **R**. În producție, python împreună cu framework-ul **Django** poate fi un limbaj but pentru un server de back-end, ca alternativă la **Node.js, Ruby on Rails, .NET Framework/Core**.  \n",
    "\n",
    "Fun fact: Prima versiune de Python este scrisă ca o implementare a limbajului C. Chiar și acum, interpretorul de python traduce într-un alt limbaj, care este apoi compilat, și rulat. Un fel de Python -> C/Java/.NET/... -> Assembly -> 010101. Chiar și așa, nu înseamnă că poți folosi cod de C, fără să flexezi niște pachete."
   ]
  },
  {
   "cell_type": "markdown",
   "metadata": {},
   "source": [
    "### Sintaxa"
   ]
  },
  {
   "cell_type": "code",
   "execution_count": 1,
   "metadata": {},
   "outputs": [],
   "source": [
    "#1. Liniile comentate încep cu #\n",
    "#2. În python nu îți trebuie ; - niciodată\n",
    "#3. În python nu folosim paranteze în if, for, și while, decât dacă trebuie să specificăm ordinea operațiilor\n",
    "# gen: a + b * c != (a + b) * c\n",
    "#4. În python, când inițializăm variabile, nu e nevoie să îi specificăm tipul, dar trebuie să inițializăm cu ceva conținut\n",
    "# int a -- WRONG\n",
    "# a -- WRONG\n",
    "# a = 0 -- GOOD\n",
    "# a = \"\" -- GOOD\n",
    "#5. Adevărat și fals sunt True și False - cu litere mari la început."
   ]
  },
  {
   "cell_type": "code",
   "execution_count": 2,
   "metadata": {},
   "outputs": [
    {
     "name": "stdout",
     "output_type": "stream",
     "text": [
      "2\n"
     ]
    }
   ],
   "source": [
    "#Pentru a printa: \n",
    "print(2)\n",
    "# Neapărat paranteze"
   ]
  },
  {
   "cell_type": "code",
   "execution_count": 15,
   "metadata": {},
   "outputs": [
    {
     "name": "stdout",
     "output_type": "stream",
     "text": [
      "True\n",
      "3\n",
      "3\n"
     ]
    }
   ],
   "source": [
    "#PYTHON NU ARE ACOLADE { }\n",
    "#Python foloseste indentarea ca sa iși dea seama în ce block trebuie rulată comanda.\n",
    "\n",
    "# a = False;\n",
    "a = True;\n",
    "if a :\n",
    "    x = 3\n",
    "    print(a)\n",
    "    print(x)\n",
    "\n",
    "print (x)"
   ]
  },
  {
   "cell_type": "code",
   "execution_count": null,
   "metadata": {},
   "outputs": [],
   "source": []
  },
  {
   "cell_type": "code",
   "execution_count": null,
   "metadata": {},
   "outputs": [],
   "source": []
  }
 ],
 "metadata": {
  "kernelspec": {
   "display_name": "Python 3",
   "language": "python",
   "name": "python3"
  },
  "language_info": {
   "codemirror_mode": {
    "name": "ipython",
    "version": 3
   },
   "file_extension": ".py",
   "mimetype": "text/x-python",
   "name": "python",
   "nbconvert_exporter": "python",
   "pygments_lexer": "ipython3",
   "version": "3.7.2"
  }
 },
 "nbformat": 4,
 "nbformat_minor": 2
}
