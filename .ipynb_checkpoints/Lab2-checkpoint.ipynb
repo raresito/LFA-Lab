{
 "cells": [
  {
   "cell_type": "markdown",
   "metadata": {},
   "source": [
    "## Laboratorul 2"
   ]
  },
  {
   "cell_type": "markdown",
   "metadata": {},
   "source": [
    "Obiectivul acestui laborator va fi să implementăm un Vending Machine - zis și în mod greșit în limba română „Tonomat”\n",
    "Descrierea unui vending machine: \n",
    "<img src=\"images/vending.jpeg\" width=\"200px\" height=\"300px\">"
   ]
  },
  {
   "cell_type": "markdown",
   "metadata": {},
   "source": [
    "#### Ce input primește un Vending Machine? \n",
    "1. Monede - 0.1, 0.5 lei (vom presupune că acceptă toate tipurile de monede și bancnote începând cu moneda de 10 bani)\n",
    "2. Bancnote - 1, 5, 10, 50, 100, 200 lei\n",
    "3. Indicele produsului pe care îl dorim\n",
    "\n",
    "#### Ce output dă Vending machine-ul ?\n",
    "1. Produsul (în cazul nostru osă fie un mesaj - na produsul) \n",
    "2. Rest - monede de 10 bani.\n",
    "3. Refuz (dacă produsul nu există "
   ]
  },
  {
   "cell_type": "code",
   "execution_count": null,
   "metadata": {},
   "outputs": [],
   "source": []
  }
 ],
 "metadata": {
  "kernelspec": {
   "display_name": "Python 3",
   "language": "python",
   "name": "python3"
  },
  "language_info": {
   "codemirror_mode": {
    "name": "ipython",
    "version": 3
   },
   "file_extension": ".py",
   "mimetype": "text/x-python",
   "name": "python",
   "nbconvert_exporter": "python",
   "pygments_lexer": "ipython3",
   "version": "3.7.2"
  }
 },
 "nbformat": 4,
 "nbformat_minor": 2
}
